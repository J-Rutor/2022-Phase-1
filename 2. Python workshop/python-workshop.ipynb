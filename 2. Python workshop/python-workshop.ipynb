{
 "cells": [
  {
   "cell_type": "markdown",
   "metadata": {},
   "source": [
    "<h1>MSA 2022 Python Workshop</h1>"
   ]
  },
  {
   "cell_type": "markdown",
   "metadata": {},
   "source": [
    "<h3>Introduction</h3>\n",
    "<p>The year is 2496.\n",
    "\n",
    "You're an astronaut on a space station in the Alpha Centauri star system located 4.1 x 1013 kilometres from the Earth (or in other words, a really long way away from home).\n",
    "\n",
    "You're conducting astrobiological experiments in search of extraterrestrial life and generally minding your own business while listening to lo-fi hip-hop (yes, it's still a thing even in the 25th century) when suddenly, you receive unexpected transmissions of unknown origin.\n",
    "\n",
    "Unfortunately, your advanced systems can only decode these transmissions into a file format known as comma-separated value files (more commonly referred to by 21st century millennials as CSV files) and none of your systems can decipher what's in them.\n",
    "\n",
    "Fortunately, your years of training at the Microsoft Space Academy had a course on Python (in case you ever needed to use one of the ancient languages). Use this knowledge to explore the transmission file and uncover the hidden message.</p>"
   ]
  },
  {
   "cell_type": "markdown",
   "metadata": {},
   "source": [
    "<h3>Exercise 1</h3>\n",
    "\n",
    "<p>Your first task, like almost anything involving unfamiliar data, is to see what it actually looks like and get it into a more usable form for further analysis.\n",
    "\n",
    "Investigate the transmission file provided by opening the file and inserting each line of the file into a list for later use, then printing it.</p>"
   ]
  },
  {
   "cell_type": "markdown",
   "metadata": {},
   "source": [
    "<h3>Exercise 2</h3>\n",
    "\n",
    "After investigating the transmission file, you notice that each row contains an id and a corresponding sequence of characters, and that the transmission column is garbled and contains non-integer characters like \".\" and \"-\".\n",
    "\n",
    "You ask your senior colleague on the space station if they've come across anything like this before, and they suggest that in order to uncover more information, you should take the sum of all integers in each row of the transmission column while ignoring non-integer characters.\n",
    "\n",
    "Before they start reminiscing with you about the great battle between the C-Sharpians and Typescripters (which you've heard countless times already), you go back to your system and start figuring out a way to do what they suggested while also storing these sums to use later."
   ]
  },
  {
   "cell_type": "markdown",
   "metadata": {},
   "source": [
    "<h3>Exercise 3</h3>\n",
    "\n",
    "With a little help from your notes on ASCII characters during your time at the Academy), you realise that the sums you calculated might need to be converted into something more readable by humans like yourself.\n",
    "\n",
    "Furthermore, your colleague floats by and mentions that each number in the ids column might indicate the order in which these sums need to be arranged (from smallest id to largest id).\n",
    "\n",
    "You thank them for their help and huddle yourself into your cabin with your system, isolating yourself from the rest of the universe (akin to the ways of your developer ancestors from the 2000s). It's just you now, working to uncover the hidden message that might shape the course of humanity forever..."
   ]
  }
 ],
 "metadata": {
  "language_info": {
   "name": "python"
  },
  "orig_nbformat": 4
 },
 "nbformat": 4,
 "nbformat_minor": 2
}
