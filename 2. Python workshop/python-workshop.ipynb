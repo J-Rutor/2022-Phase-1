{
 "cells": [
  {
   "cell_type": "markdown",
   "metadata": {},
   "source": [
    "<h1>MSA 2022 Python Workshop</h1>"
   ]
  },
  {
   "cell_type": "markdown",
   "metadata": {},
   "source": [
    "<h3>Introduction</h3>\n",
    "<p>The year is 2496.\n",
    "\n",
    "You're an astronaut on a space station in the Alpha Centauri star system located 4.1 x 1013 kilometres from the Earth (or in other words, a really long way away from home).\n",
    "\n",
    "You're conducting astrobiological experiments in search of extraterrestrial life and generally minding your own business while listening to lo-fi hip-hop (yes, it's still a thing even in the 25th century) when suddenly, you receive unexpected transmissions of unknown origin.\n",
    "\n",
    "Unfortunately, your advanced systems can only decode these transmissions into a file format known as comma-separated value files (more commonly referred to by 21st century millennials as CSV files) and none of your systems can decipher what's in them.\n",
    "\n",
    "Fortunately, your years of training at the Microsoft Space Academy had a course on Python (in case you ever needed to use one of the ancient languages). Use this knowledge to explore the transmission file and uncover the hidden message.</p>"
   ]
  },
  {
   "cell_type": "markdown",
   "metadata": {},
   "source": [
    "<h3>Exercise 1</h3>\n",
    "\n",
    "<p>Your first task, like almost anything involving unfamiliar data, is to see what it actually looks like and get it into a more usable form for further analysis.\n",
    "\n",
    "Investigate the transmission file provided by opening the file and inserting each line of the file into a list for later use, then printing it.</p>"
   ]
  },
  {
   "cell_type": "code",
   "execution_count": 1,
   "metadata": {},
   "outputs": [
    {
     "name": "stdout",
     "output_type": "stream",
     "text": [
      "['id', ' transmission']\n",
      "['22', ' -.59.1-46.12-7.9.45.9.-614.2-3']\n",
      "['3', ' 8-.132.85-5.-3-79-49.6-68.1']\n",
      "['16', ' 68-13.74.581-24-941-2']\n",
      "['4', ' 97-236.1.712.2-543-81.4']\n",
      "['13', ' 5.921.3-.59-78-6.26.324.7']\n",
      "['7', ' 819.293.1-2..83.4.56.8']\n",
      "['1', ' 23--.8.27.3-4.82.6-.86-632-45.']\n",
      "['19', ' 98-159-.49.1.53-1-8.-67']\n",
      "['25', ' 1-547.-98.5.17-572-62']\n",
      "['0', ' .9-76.-8.-46-.8.27-.-346-.9-73']\n",
      "['14', ' 6.9.3-85-645.69-4.8.56']\n",
      "['11', ' 3.9.785..92.38.5-7-354']\n",
      "['6', ' 2.95-9.3-.51.89.5-7.55.63']\n",
      "['20', ' 75.2-4.56.-834-.49-87-43']\n"
     ]
    }
   ],
   "source": [
    "import csv\n",
    "\n",
    "transmissionData = []\n",
    "\n",
    "with open('transmissions.csv', 'r') as csvfile:\n",
    "    reader = csv.reader(csvfile)\n",
    "    for row in reader:\n",
    "        transmissionData.append(row)\n",
    "\n",
    "for line in transmissionData:\n",
    "    print(line)"
   ]
  },
  {
   "cell_type": "markdown",
   "metadata": {},
   "source": [
    "<h3>Exercise 2</h3>\n",
    "\n",
    "After investigating the transmission file, you notice that each row contains an id and a corresponding sequence of characters, and that the transmission column is garbled and contains non-integer characters like \".\" and \"-\".\n",
    "\n",
    "You ask your senior colleague on the space station if they've come across anything like this before, and they suggest that in order to uncover more information, you should take the sum of all integers in each row of the transmission column while ignoring non-integer characters.\n",
    "\n",
    "Before they start reminiscing with you about the great battle between the C-Sharpians and Typescripters (which you've heard countless times already), you go back to your system and start figuring out a way to do what they suggested while also storing these sums to use later."
   ]
  },
  {
   "cell_type": "code",
   "execution_count": 2,
   "metadata": {},
   "outputs": [
    {
     "name": "stdout",
     "output_type": "stream",
     "text": [
      "['id', ' transmission', 0]\n",
      "['22', ' -.59.1-46.12-7.9.45.9.-614.2-3', 78]\n",
      "['3', ' 8-.132.85-5.-3-79-49.6-68.1', 85]\n",
      "['16', ' 68-13.74.581-24-941-2', 65]\n",
      "['4', ' 97-236.1.712.2-543-81.4', 65]\n",
      "['13', ' 5.921.3-.59-78-6.26.324.7', 79]\n",
      "['7', ' 819.293.1-2..83.4.56.8', 69]\n",
      "['1', ' 23--.8.27.3-4.82.6-.86-632-45.', 79]\n",
      "['19', ' 98-159-.49.1.53-1-8.-67', 76]\n",
      "['25', ' 1-547.-98.5.17-572-62', 69]\n",
      "['0', ' .9-76.-8.-46-.8.27-.-346-.9-73', 89]\n",
      "['14', ' 6.9.3-85-645.69-4.8.56', 84]\n",
      "['11', ' 3.9.785..92.38.5-7-354', 78]\n",
      "['6', ' 2.95-9.3-.51.89.5-7.55.63', 82]\n",
      "['20', ' 75.2-4.56.-834-.49-87-43', 79]\n"
     ]
    }
   ],
   "source": [
    "\n",
    "for line in transmissionData:\n",
    "    sum = 0\n",
    "    for x in line[1]:\n",
    "        try:\n",
    "            sum += int(x)\n",
    "        except ValueError:\n",
    "            continue\n",
    "\n",
    "    line.append(sum)\n",
    "    print(line)\n",
    "    "
   ]
  },
  {
   "cell_type": "markdown",
   "metadata": {},
   "source": [
    "<h3>Exercise 3</h3>\n",
    "\n",
    "With a little help from your notes on ASCII characters during your time at the Academy), you realise that the sums you calculated might need to be converted into something more readable by humans like yourself.\n",
    "\n",
    "Furthermore, your colleague floats by and mentions that each number in the ids column might indicate the order in which these sums need to be arranged (from smallest id to largest id).\n",
    "\n",
    "You thank them for their help and huddle yourself into your cabin with your system, isolating yourself from the rest of the universe (akin to the ways of your developer ancestors from the 2000s). It's just you now, working to uncover the hidden message that might shape the course of humanity forever..."
   ]
  },
  {
   "cell_type": "code",
   "execution_count": 3,
   "metadata": {},
   "outputs": [
    {
     "name": "stdout",
     "output_type": "stream",
     "text": [
      "YOUARENOTALONE\n"
     ]
    }
   ],
   "source": [
    "ids = []\n",
    "sums = []\n",
    "message = ''\n",
    "\n",
    "for id, transmission, sum in transmissionData:\n",
    "    try:\n",
    "        ids.append(int(id))\n",
    "        sums.append(sum)\n",
    "    except ValueError:\n",
    "        continue\n",
    "\n",
    "i = 0\n",
    "length = len(ids)\n",
    "while i < length:\n",
    "    position = ids.index(min(ids))\n",
    "    message += (chr(sums[position]))\n",
    "    del ids[position]\n",
    "    del sums[position]\n",
    "    i += 1\n",
    "\n",
    "print(message)\n",
    "\n"
   ]
  },
  {
   "cell_type": "markdown",
   "metadata": {},
   "source": []
  }
 ],
 "metadata": {
  "interpreter": {
   "hash": "b00837638d1dd76cd1683c6aea65f4bbe3ffe04357a8ba25da0c2b696483fbb1"
  },
  "kernelspec": {
   "display_name": "Python 3.10.4 64-bit (windows store)",
   "language": "python",
   "name": "python3"
  },
  "language_info": {
   "codemirror_mode": {
    "name": "ipython",
    "version": 3
   },
   "file_extension": ".py",
   "mimetype": "text/x-python",
   "name": "python",
   "nbconvert_exporter": "python",
   "pygments_lexer": "ipython3",
   "version": "3.10.4"
  },
  "orig_nbformat": 4
 },
 "nbformat": 4,
 "nbformat_minor": 2
}
